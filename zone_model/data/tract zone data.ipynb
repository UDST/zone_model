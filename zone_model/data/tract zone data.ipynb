{
 "cells": [
  {
   "cell_type": "code",
   "execution_count": 1,
   "metadata": {
    "collapsed": true
   },
   "outputs": [],
   "source": [
    "import numpy as np\n",
    "import pandas as pd\n",
    "from urbansim.utils import misc"
   ]
  },
  {
   "cell_type": "code",
   "execution_count": null,
   "metadata": {
    "collapsed": false
   },
   "outputs": [],
   "source": []
  },
  {
   "cell_type": "code",
   "execution_count": 2,
   "metadata": {
    "collapsed": true
   },
   "outputs": [],
   "source": [
    "store = pd.HDFStore('model_data.h5')\n",
    "blocks = store['blocks']\n",
    "jobs = store['jobs']\n",
    "households = store['households']\n",
    "residential_units = store['residential_units']"
   ]
  },
  {
   "cell_type": "code",
   "execution_count": 3,
   "metadata": {
    "collapsed": false
   },
   "outputs": [
    {
     "name": "stderr",
     "output_type": "stream",
     "text": [
      "/home/janowicz/anaconda2/lib/python2.7/site-packages/ipykernel/__main__.py:7: SettingWithCopyWarning: \n",
      "A value is trying to be set on a copy of a slice from a DataFrame.\n",
      "Try using .loc[row_indexer,col_indexer] = value instead\n",
      "\n",
      "See the caveats in the documentation: http://pandas.pydata.org/pandas-docs/stable/indexing.html#indexing-view-versus-copy\n",
      "/home/janowicz/anaconda2/lib/python2.7/site-packages/ipykernel/__main__.py:8: SettingWithCopyWarning: \n",
      "A value is trying to be set on a copy of a slice from a DataFrame.\n",
      "Try using .loc[row_indexer,col_indexer] = value instead\n",
      "\n",
      "See the caveats in the documentation: http://pandas.pydata.org/pandas-docs/stable/indexing.html#indexing-view-versus-copy\n",
      "/home/janowicz/anaconda2/lib/python2.7/site-packages/ipykernel/__main__.py:10: SettingWithCopyWarning: \n",
      "A value is trying to be set on a copy of a slice from a DataFrame\n",
      "\n",
      "See the caveats in the documentation: http://pandas.pydata.org/pandas-docs/stable/indexing.html#indexing-view-versus-copy\n",
      "/home/janowicz/anaconda2/lib/python2.7/site-packages/pandas/core/generic.py:4059: SettingWithCopyWarning: \n",
      "A value is trying to be set on a copy of a slice from a DataFrame\n",
      "\n",
      "See the caveats in the documentation: http://pandas.pydata.org/pandas-docs/stable/indexing.html#indexing-view-versus-copy\n",
      "  self._update_inplace(new_data)\n",
      "/home/janowicz/anaconda2/lib/python2.7/site-packages/ipykernel/__main__.py:34: SettingWithCopyWarning: \n",
      "A value is trying to be set on a copy of a slice from a DataFrame\n",
      "\n",
      "See the caveats in the documentation: http://pandas.pydata.org/pandas-docs/stable/indexing.html#indexing-view-versus-copy\n",
      "/home/janowicz/anaconda2/lib/python2.7/site-packages/ipykernel/__main__.py:11: SettingWithCopyWarning: \n",
      "A value is trying to be set on a copy of a slice from a DataFrame\n",
      "\n",
      "See the caveats in the documentation: http://pandas.pydata.org/pandas-docs/stable/indexing.html#indexing-view-versus-copy\n",
      "/home/janowicz/anaconda2/lib/python2.7/site-packages/ipykernel/__main__.py:21: SettingWithCopyWarning: \n",
      "A value is trying to be set on a copy of a slice from a DataFrame.\n",
      "Try using .loc[row_indexer,col_indexer] = value instead\n",
      "\n",
      "See the caveats in the documentation: http://pandas.pydata.org/pandas-docs/stable/indexing.html#indexing-view-versus-copy\n",
      "/home/janowicz/anaconda2/lib/python2.7/site-packages/ipykernel/__main__.py:22: SettingWithCopyWarning: \n",
      "A value is trying to be set on a copy of a slice from a DataFrame.\n",
      "Try using .loc[row_indexer,col_indexer] = value instead\n",
      "\n",
      "See the caveats in the documentation: http://pandas.pydata.org/pandas-docs/stable/indexing.html#indexing-view-versus-copy\n",
      "/home/janowicz/anaconda2/lib/python2.7/site-packages/ipykernel/__main__.py:24: SettingWithCopyWarning: \n",
      "A value is trying to be set on a copy of a slice from a DataFrame\n",
      "\n",
      "See the caveats in the documentation: http://pandas.pydata.org/pandas-docs/stable/indexing.html#indexing-view-versus-copy\n",
      "/home/janowicz/anaconda2/lib/python2.7/site-packages/ipykernel/__main__.py:35: SettingWithCopyWarning: \n",
      "A value is trying to be set on a copy of a slice from a DataFrame\n",
      "\n",
      "See the caveats in the documentation: http://pandas.pydata.org/pandas-docs/stable/indexing.html#indexing-view-versus-copy\n",
      "/home/janowicz/anaconda2/lib/python2.7/site-packages/ipykernel/__main__.py:25: SettingWithCopyWarning: \n",
      "A value is trying to be set on a copy of a slice from a DataFrame\n",
      "\n",
      "See the caveats in the documentation: http://pandas.pydata.org/pandas-docs/stable/indexing.html#indexing-view-versus-copy\n"
     ]
    }
   ],
   "source": [
    "def rent(residential_units, blocks):\n",
    "    blocks = blocks[['res_rents', 'tract_id', 'puma10_id']]\n",
    "\n",
    "    tract_vals = pd.DataFrame(index=np.unique(blocks.tract_id), data=blocks[blocks.res_rents > 0].groupby('tract_id').res_rents.median()).fillna(0)\n",
    "    puma_vals = pd.DataFrame(index=np.unique(blocks.puma10_id), data=blocks[blocks.res_rents > 0].groupby('puma10_id').res_rents.median()).fillna(0)\n",
    "\n",
    "    blocks['tract_vals'] = misc.reindex(tract_vals.res_rents, blocks.tract_id)\n",
    "    blocks['puma_vals'] = misc.reindex(puma_vals.res_rents, blocks.puma10_id)\n",
    "\n",
    "    blocks.res_rents[blocks.res_rents == 0] = blocks.tract_vals[blocks.res_rents == 0]\n",
    "    blocks.res_rents[blocks.res_rents == 0] = blocks.puma_vals[blocks.res_rents == 0]\n",
    "\n",
    "    return misc.reindex(blocks.res_rents, residential_units.block_id)\n",
    "    \n",
    "def value(residential_units, blocks):\n",
    "    blocks = blocks[['res_values', 'tract_id', 'puma10_id']]\n",
    "\n",
    "    tract_vals = pd.DataFrame(index=np.unique(blocks.tract_id), data=blocks[blocks.res_values > 0].groupby('tract_id').res_values.median()).fillna(0)\n",
    "    puma_vals = pd.DataFrame(index=np.unique(blocks.puma10_id), data=blocks[blocks.res_values > 0].groupby('puma10_id').res_values.median()).fillna(0)\n",
    "\n",
    "    blocks['tract_vals'] = misc.reindex(tract_vals.res_values, blocks.tract_id)\n",
    "    blocks['puma_vals'] = misc.reindex(puma_vals.res_values, blocks.puma10_id)\n",
    "\n",
    "    blocks.res_values[blocks.res_values == 0] = blocks.tract_vals[blocks.res_values == 0]\n",
    "    blocks.res_values[blocks.res_values == 0] = blocks.puma_vals[blocks.res_values == 0]\n",
    "\n",
    "    return misc.reindex(blocks.res_values, residential_units.block_id)\n",
    "\n",
    "# tract_id = pd.Series(blocks.index.values, index = blocks.index).str.slice(0,11)\n",
    "# blocks['zone_id'] = tract_id.astype('int')\n",
    "blocks['tract_id'] = pd.Series(blocks.index.values, index = blocks.index).str.slice(0,11)\n",
    "blocks['zone_id'] = blocks.taz_id\n",
    "\n",
    "residential_units['res_rent'] = rent(residential_units, blocks)\n",
    "residential_units['res_value'] = value(residential_units, blocks)"
   ]
  },
  {
   "cell_type": "code",
   "execution_count": 4,
   "metadata": {
    "collapsed": false
   },
   "outputs": [],
   "source": [
    "\n",
    "\n",
    "households['zone_id'] = misc.reindex(blocks.zone_id, households.block_id)\n",
    "jobs['zone_id'] = misc.reindex(blocks.zone_id, jobs.block_id)\n",
    "residential_units['zone_id'] = misc.reindex(blocks.zone_id, residential_units.block_id)\n",
    "\n",
    "del households['block_id']\n",
    "del jobs['block_id']\n",
    "del residential_units['block_id']"
   ]
  },
  {
   "cell_type": "code",
   "execution_count": 5,
   "metadata": {
    "collapsed": false
   },
   "outputs": [],
   "source": [
    "zone_x = blocks.groupby('zone_id').x.mean()\n",
    "zone_y = blocks.groupby('zone_id').y.mean()\n",
    "zone_rent = residential_units.groupby('zone_id').res_rent.mean()\n",
    "zone_value = residential_units.groupby('zone_id').res_value.mean()\n",
    "zone_acres = blocks.groupby('zone_id').square_meters_land.sum()/4046.86\n",
    "zone_du_capacity = blocks.groupby('zone_id').residential_unit_capacity.sum()\n",
    "zone_emp_capacity = blocks.groupby('zone_id').employment_capacity.sum()\n",
    "\n",
    "blocks.puma10_id = blocks.puma10_id.astype('int')\n",
    "zone_puma = blocks.groupby('zone_id').puma10_id.median()\n",
    "\n",
    "zone_hh = households.groupby('zone_id').size()\n",
    "zone_du = residential_units.groupby('zone_id').size()\n",
    "zone_emp = jobs.groupby('zone_id').size()"
   ]
  },
  {
   "cell_type": "code",
   "execution_count": 6,
   "metadata": {
    "collapsed": false
   },
   "outputs": [],
   "source": [
    "puma_rent = blocks[blocks.res_rents > 0].groupby('puma10_id').res_rents.mean() * .8\n",
    "puma_rent = pd.DataFrame({'res_rent':puma_rent}, index=puma_rent.index)\n",
    "puma_value = blocks[blocks.res_values > 0].groupby('puma10_id').res_values.mean() * .8\n",
    "puma_value = pd.DataFrame({'res_value':puma_value}, index=puma_value.index)"
   ]
  },
  {
   "cell_type": "code",
   "execution_count": 7,
   "metadata": {
    "collapsed": false
   },
   "outputs": [],
   "source": [
    "zones = pd.DataFrame(index = np.unique(blocks.zone_id))\n",
    "zones['x'] = zone_x\n",
    "zones['y'] = zone_y\n",
    "zones['res_rent'] = zone_rent\n",
    "zones['res_value'] = zone_value\n",
    "zones['acres'] = zone_acres\n",
    "zones['residential_unit_capacity'] = zone_du_capacity\n",
    "zones['employment_capacity'] = zone_emp_capacity\n",
    "\n",
    "zones['puma10_id'] = zone_puma\n",
    "\n",
    "zones['hh'] = zone_hh\n",
    "zones['du'] = zone_du\n",
    "zones['emp'] = zone_emp"
   ]
  },
  {
   "cell_type": "code",
   "execution_count": 8,
   "metadata": {
    "collapsed": false
   },
   "outputs": [
    {
     "name": "stdout",
     "output_type": "stream",
     "text": [
      "1957\n",
      "1954\n"
     ]
    }
   ],
   "source": [
    "## Next step:  fill in nan's, check values\n",
    "## Next step:  Ensure that everything is needed in the zone schema\n",
    "## Next step:  Write out to zone h5\n",
    "\n",
    "print len(zones)\n",
    "zones = zones[zones.acres > 0]\n",
    "print len(zones)"
   ]
  },
  {
   "cell_type": "code",
   "execution_count": 9,
   "metadata": {
    "collapsed": false
   },
   "outputs": [
    {
     "name": "stderr",
     "output_type": "stream",
     "text": [
      "/home/janowicz/anaconda2/lib/python2.7/site-packages/ipykernel/__main__.py:6: SettingWithCopyWarning: \n",
      "A value is trying to be set on a copy of a slice from a DataFrame\n",
      "\n",
      "See the caveats in the documentation: http://pandas.pydata.org/pandas-docs/stable/indexing.html#indexing-view-versus-copy\n",
      "/home/janowicz/anaconda2/lib/python2.7/site-packages/ipykernel/__main__.py:7: SettingWithCopyWarning: \n",
      "A value is trying to be set on a copy of a slice from a DataFrame\n",
      "\n",
      "See the caveats in the documentation: http://pandas.pydata.org/pandas-docs/stable/indexing.html#indexing-view-versus-copy\n"
     ]
    }
   ],
   "source": [
    "zones['puma_rent'] = misc.reindex(puma_rent.res_rent, zones.puma10_id)\n",
    "zones['puma_value'] = misc.reindex(puma_value.res_value, zones.puma10_id)\n",
    "\n",
    "zones.res_rent = zones.res_rent.fillna(0)\n",
    "zones.res_value = zones.res_value.fillna(0)\n",
    "zones.res_rent[zones.res_rent == 0] = zones.puma_rent[zones.res_rent == 0]\n",
    "zones.res_value[zones.res_value == 0] = zones.puma_value[zones.res_value == 0]"
   ]
  },
  {
   "cell_type": "code",
   "execution_count": 10,
   "metadata": {
    "collapsed": false
   },
   "outputs": [],
   "source": [
    "del zones['puma10_id']\n",
    "del zones['hh']\n",
    "del zones['du']\n",
    "del zones['emp']\n",
    "del zones['puma_rent']\n",
    "del zones['puma_value']"
   ]
  },
  {
   "cell_type": "code",
   "execution_count": 11,
   "metadata": {
    "collapsed": false
   },
   "outputs": [],
   "source": [
    "del residential_units['res_rent']\n",
    "del residential_units['res_value']"
   ]
  },
  {
   "cell_type": "code",
   "execution_count": 12,
   "metadata": {
    "collapsed": false
   },
   "outputs": [],
   "source": [
    "store2 = pd.HDFStore('zone_model_data.h5')"
   ]
  },
  {
   "cell_type": "code",
   "execution_count": 13,
   "metadata": {
    "collapsed": false
   },
   "outputs": [],
   "source": [
    "zones.index.name = 'zone_id'\n",
    "store2['zones'] = zones\n",
    "store2['residential_units'] = residential_units\n",
    "store2['households'] = households\n",
    "store2['jobs'] = jobs"
   ]
  },
  {
   "cell_type": "code",
   "execution_count": 14,
   "metadata": {
    "collapsed": true
   },
   "outputs": [],
   "source": [
    "store2['edges'] = store['edges_simple']\n",
    "store2['nodes'] = store['nodes_simple']\n",
    "store2['annual_household_relocation_rates'] = store['annual_household_relocation_rates']\n",
    "#store2['persons'] = store['persons']\n",
    "store2['places'] = store['places']\n",
    "store2['region'] = store['region']"
   ]
  },
  {
   "cell_type": "code",
   "execution_count": 15,
   "metadata": {
    "collapsed": false
   },
   "outputs": [],
   "source": [
    "store2.close()"
   ]
  },
  {
   "cell_type": "code",
   "execution_count": null,
   "metadata": {
    "collapsed": true
   },
   "outputs": [],
   "source": []
  }
 ],
 "metadata": {
  "kernelspec": {
   "display_name": "Python 2",
   "language": "python",
   "name": "python2"
  },
  "language_info": {
   "codemirror_mode": {
    "name": "ipython",
    "version": 2
   },
   "file_extension": ".py",
   "mimetype": "text/x-python",
   "name": "python",
   "nbconvert_exporter": "python",
   "pygments_lexer": "ipython2",
   "version": "2.7.12"
  }
 },
 "nbformat": 4,
 "nbformat_minor": 0
}
