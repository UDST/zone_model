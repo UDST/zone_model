{
 "cells": [
  {
   "cell_type": "code",
   "execution_count": 1,
   "metadata": {
    "collapsed": false
   },
   "outputs": [
    {
     "name": "stdout",
     "output_type": "stream",
     "text": [
      "Model template is: zone. Operating on zones with zone_id.\n"
     ]
    }
   ],
   "source": [
    "import orca\n",
    "import urbansim\n",
    "\n",
    "import datasources\n",
    "import variables"
   ]
  },
  {
   "cell_type": "code",
   "execution_count": 2,
   "metadata": {
    "collapsed": false
   },
   "outputs": [],
   "source": [
    "j = orca.get_table('jobs').to_frame()\n",
    "z = orca.get_table('zones').to_frame()"
   ]
  },
  {
   "cell_type": "code",
   "execution_count": 3,
   "metadata": {
    "collapsed": false
   },
   "outputs": [
    {
     "data": {
      "text/plain": [
       "Index([u'avg_nonres_m2_rent', u'avg_residential_rent',\n",
       "       u'avg_residential_value', u'avg_year_built', u'land_km2', u'm2_per_job',\n",
       "       u'non_residential_m2', u'proportion_undevelopable',\n",
       "       u'residential_units', u'total_household_population',\n",
       "       u'total_number_of_households', u'total_number_of_jobs',\n",
       "       u'travel_time_to_cbd_drive', u'x', u'y', u'households', u'jobs',\n",
       "       u'du_spaces', u'vacant_du_spaces', u'z_id', u'vacant_job_spaces',\n",
       "       u'all_zones', u'vacant_residential_units', u'job_spaces',\n",
       "       u'ln_residential_units'],\n",
       "      dtype='object')"
      ]
     },
     "execution_count": 3,
     "metadata": {},
     "output_type": "execute_result"
    }
   ],
   "source": [
    "z.columns"
   ]
  },
  {
   "cell_type": "code",
   "execution_count": 4,
   "metadata": {
    "collapsed": false
   },
   "outputs": [],
   "source": [
    "expvars = ['total_household_population', 'travel_time_to_cbd_drive', 'avg_year_built', 'total_number_of_jobs']\n",
    "dcm = urbansim.models.dcm.MNLDiscreteChoiceModel(model_expression=expvars,\n",
    "                                                 sample_size=50,\n",
    "                                                 probability_mode='single_chooser',\n",
    "                                                 choice_mode='aggregate',\n",
    "                                                 estimation_sample_size=1000)"
   ]
  },
  {
   "cell_type": "code",
   "execution_count": 5,
   "metadata": {
    "collapsed": false
   },
   "outputs": [
    {
     "name": "stderr",
     "output_type": "stream",
     "text": [
      "/home/janowicz/udst/urbansim/urbansim/urbanchoice/interaction.py:83: SettingWithCopyWarning: \n",
      "A value is trying to be set on a copy of a slice from a DataFrame.\n",
      "Try using .loc[row_indexer,col_indexer] = value instead\n",
      "\n",
      "See the caveats in the documentation: http://pandas.pydata.org/pandas-docs/stable/indexing.html#indexing-view-versus-copy\n",
      "  alts_sample['join_index'] = np.repeat(choosers.index.values, SAMPLE_SIZE)\n"
     ]
    },
    {
     "data": {
      "text/plain": [
       "{'convergence': -3339.915740752933,\n",
       " 'null': -3912.023005428176,\n",
       " 'ratio': 0.14624332829367537}"
      ]
     },
     "execution_count": 5,
     "metadata": {},
     "output_type": "execute_result"
    }
   ],
   "source": [
    "dcm.fit(j, z, 'zone_id')"
   ]
  },
  {
   "cell_type": "code",
   "execution_count": 8,
   "metadata": {
    "collapsed": false
   },
   "outputs": [],
   "source": [
    "j = j[j.sector_id==1]"
   ]
  },
  {
   "cell_type": "code",
   "execution_count": 7,
   "metadata": {
    "collapsed": true
   },
   "outputs": [],
   "source": [
    "from patsy import dmatrix\n",
    "from urbansim.urbanchoice import interaction, mnl\n",
    "from urbansim.models import util"
   ]
  },
  {
   "cell_type": "code",
   "execution_count": 24,
   "metadata": {
    "collapsed": true
   },
   "outputs": [],
   "source": [
    "import numpy as np\n",
    "from sklearn import datasets\n",
    "iris = datasets.load_iris()\n",
    "iris_X = iris.data\n",
    "iris_y = iris.target"
   ]
  },
  {
   "cell_type": "code",
   "execution_count": null,
   "metadata": {
    "collapsed": false
   },
   "outputs": [],
   "source": []
  },
  {
   "cell_type": "code",
   "execution_count": 21,
   "metadata": {
    "collapsed": false
   },
   "outputs": [
    {
     "name": "stderr",
     "output_type": "stream",
     "text": [
      "/home/janowicz/udst/urbansim/urbansim/urbanchoice/interaction.py:83: SettingWithCopyWarning: \n",
      "A value is trying to be set on a copy of a slice from a DataFrame.\n",
      "Try using .loc[row_indexer,col_indexer] = value instead\n",
      "\n",
      "See the caveats in the documentation: http://pandas.pydata.org/pandas-docs/stable/indexing.html#indexing-view-versus-copy\n",
      "  alts_sample['join_index'] = np.repeat(choosers.index.values, SAMPLE_SIZE)\n"
     ]
    }
   ],
   "source": [
    "_, merged, chosen = interaction.mnl_interaction_dataset(\n",
    "            j, z, 50, j['zone_id'])"
   ]
  },
  {
   "cell_type": "code",
   "execution_count": 23,
   "metadata": {
    "collapsed": false
   },
   "outputs": [
    {
     "data": {
      "text/plain": [
       "Index([u'avg_nonres_m2_rent', u'avg_residential_rent',\n",
       "       u'avg_residential_value', u'avg_year_built', u'land_km2', u'm2_per_job',\n",
       "       u'non_residential_m2', u'proportion_undevelopable',\n",
       "       u'residential_units', u'total_household_population',\n",
       "       u'total_number_of_households', u'total_number_of_jobs',\n",
       "       u'travel_time_to_cbd_drive', u'x', u'y', u'households', u'jobs',\n",
       "       u'du_spaces', u'vacant_du_spaces', u'z_id', u'vacant_job_spaces',\n",
       "       u'all_zones', u'vacant_residential_units', u'job_spaces',\n",
       "       u'ln_residential_units', u'join_index', u'sector_id', u'zone_id',\n",
       "       u'y_r', u'x_r', u'all_jobs'],\n",
       "      dtype='object')"
      ]
     },
     "execution_count": 23,
     "metadata": {},
     "output_type": "execute_result"
    }
   ],
   "source": [
    "merged.columns"
   ]
  },
  {
   "cell_type": "code",
   "execution_count": 25,
   "metadata": {
    "collapsed": false
   },
   "outputs": [
    {
     "data": {
      "text/plain": [
       "(7676, 50)"
      ]
     },
     "execution_count": 25,
     "metadata": {},
     "output_type": "execute_result"
    }
   ],
   "source": [
    "chosen.shape"
   ]
  },
  {
   "cell_type": "code",
   "execution_count": 9,
   "metadata": {
    "collapsed": false
   },
   "outputs": [],
   "source": [
    "##scikit-urbansim is only useful for leveraging external scikit-learn community libraries\n",
    "## we still want to be able to go back to the main urbansim interface for simulation.  \n",
    "## just not the lcm_simulate in utils.  Execute simulation on the model object itself from within orca/models.py\n",
    "## model-object based approach facilitates ensembling, and grouping models together.\n",
    "## zone model ensemble example now!\n",
    "## the scikit-learn version of models all need to assume that the interaction dataset is X\n",
    "##     (so calculate the interaction dataset up front)\n",
    "## separate the probability calculation from the simulation.  Simulate function is generic and separate\n",
    "\n",
    "def create_lcm_training_data(model_expression, choosers, alternatives, alts_sample_size, current_choice):\n",
    "    \n",
    "    current_choice = choosers[current_choice]\n",
    "    \n",
    "    _, merged, chosen = interaction.mnl_interaction_dataset(\n",
    "                choosers, alternatives, alts_sample_size, current_choice)\n",
    "\n",
    "    str_model_expression = util.str_model_expression(model_expression, add_constant=False)\n",
    "    model_design = dmatrix(str_model_expression, data=merged, return_type='dataframe')\n",
    "\n",
    "    X = model_design.as_matrix()\n",
    "    y = chosen.ravel()\n",
    "    \n",
    "    return X, y"
   ]
  },
  {
   "cell_type": "code",
   "execution_count": 10,
   "metadata": {
    "collapsed": false
   },
   "outputs": [],
   "source": [
    "X, y = create_lcm_training_data(expvars, j, z, 50, 'zone_id')"
   ]
  },
  {
   "cell_type": "code",
   "execution_count": 38,
   "metadata": {
    "collapsed": false
   },
   "outputs": [],
   "source": [
    "from sklearn.linear_model import LogisticRegression\n",
    "\n",
    "lr_model = LogisticRegression().fit(X,y)"
   ]
  },
  {
   "cell_type": "code",
   "execution_count": 44,
   "metadata": {
    "collapsed": false
   },
   "outputs": [],
   "source": [
    "import numpy as np\n",
    "import pandas as pd\n",
    "from urbansim.models import MNLDiscreteChoiceModel\n",
    "from urbansim.utils import misc\n",
    "\n",
    "\n",
    "from sklearn.base import BaseEstimator, ClassifierMixin\n",
    "from sklearn.utils.multiclass import unique_labels\n",
    "from sklearn.utils.validation import check_X_y, check_array, check_is_fitted\n",
    "from sklearn.utils.estimator_checks import check_estimator\n",
    "\n",
    "class MnlClassifier(MNLDiscreteChoiceModel, BaseEstimator, ClassifierMixin):\n",
    "\n",
    "    def __init__(self, model_expression='', sample_size=50):\n",
    "         super(MnlClassifier, self).__init__(model_expression, sample_size)\n",
    "        \n",
    "    def fit(self, X, y):\n",
    "        ##  X here should be MNLDiscreteChoiceModel.fit, with pre-merged choosers/alts...\n",
    "        \n",
    "        # Check that X and y have correct shape\n",
    "        X, y = check_X_y(X, y)\n",
    "        # Store the classes seen during fit\n",
    "        self.classes_ = unique_labels(y)\n",
    "\n",
    "        self.X_ = X\n",
    "        self.y_ = y\n",
    "        \n",
    "        num_agents = len(X) / self.sample_size\n",
    "        chosen = y.reshape((num_agents, self.sample_size))\n",
    "        \n",
    "        self.log_likelihoods, self.fit_parameters = mnl.mnl_estimate(\n",
    "            X, chosen, self.sample_size)\n",
    "        \n",
    "        # Return the classifier\n",
    "        return self\n",
    "    \n",
    "    def probabilities(self, X):\n",
    "        probabilities = mnl.mnl_simulate(\n",
    "            X,\n",
    "            list(lcm.fit_parameters['Coefficient']),\n",
    "            numalts=len(X), returnprobs=True)\n",
    "        return probabilities.flatten()\n",
    "    \n",
    "    def predict_proba(self):\n",
    "        pass\n",
    "    \n",
    "    def predict(self, X):\n",
    "        ##  Actually, this should be a separate simulation thing (outside of the object)\n",
    "        # Check is fit had been called\n",
    "        check_is_fitted(self, ['X_', 'y_'])\n",
    "\n",
    "        # Input validation\n",
    "        X = check_array(X)\n",
    "        \n",
    "        probs = self.probabilities(X)\n",
    "        \n",
    "        return np.random.choice(\n",
    "                    np.arange(len(probs)), p=probs / probs.sum())\n",
    "    \n",
    "#check_estimator(MnlClassifier)"
   ]
  },
  {
   "cell_type": "code",
   "execution_count": 45,
   "metadata": {
    "collapsed": false
   },
   "outputs": [],
   "source": [
    "lcm = MnlClassifier().fit(X, y)"
   ]
  },
  {
   "cell_type": "code",
   "execution_count": 35,
   "metadata": {
    "collapsed": false
   },
   "outputs": [
    {
     "data": {
      "text/plain": [
       "0.02354313100529035"
      ]
     },
     "execution_count": 35,
     "metadata": {},
     "output_type": "execute_result"
    }
   ],
   "source": [
    "lcm.fit_parameters['Coefficient'][1]"
   ]
  },
  {
   "cell_type": "code",
   "execution_count": 47,
   "metadata": {
    "collapsed": false
   },
   "outputs": [
    {
     "data": {
      "text/plain": [
       "array([  8.99729706e-07,   5.76687411e-06,   1.18368201e-06, ...,\n",
       "         1.25697494e-06,   1.90030532e-06,   1.46803129e-06])"
      ]
     },
     "execution_count": 47,
     "metadata": {},
     "output_type": "execute_result"
    }
   ],
   "source": [
    "lcm.probabilities(X)"
   ]
  },
  {
   "cell_type": "code",
   "execution_count": 48,
   "metadata": {
    "collapsed": false
   },
   "outputs": [
    {
     "data": {
      "text/plain": [
       "330032"
      ]
     },
     "execution_count": 48,
     "metadata": {},
     "output_type": "execute_result"
    }
   ],
   "source": [
    "lcm.predict(X)"
   ]
  },
  {
   "cell_type": "code",
   "execution_count": 29,
   "metadata": {
    "collapsed": false
   },
   "outputs": [
    {
     "data": {
      "text/plain": [
       "[6.169016069863082e-06,\n",
       " 0.02354313100529035,\n",
       " 0.0100955754795859,\n",
       " 4.5110566896538025e-06]"
      ]
     },
     "execution_count": 29,
     "metadata": {},
     "output_type": "execute_result"
    }
   ],
   "source": [
    "list(lcm.fit_parameters['Coefficient'])"
   ]
  },
  {
   "cell_type": "code",
   "execution_count": 2,
   "metadata": {
    "collapsed": false
   },
   "outputs": [
    {
     "data": {
      "text/html": [
       "\n",
       "    <div class=\"bk-root\">\n",
       "        <a href=\"http://bokeh.pydata.org\" target=\"_blank\" class=\"bk-logo bk-logo-small bk-logo-notebook\"></a>\n",
       "        <span id=\"47750e3e-0724-43c7-8b13-29c7168237e4\">Loading BokehJS ...</span>\n",
       "    </div>"
      ]
     },
     "metadata": {},
     "output_type": "display_data"
    },
    {
     "data": {
      "application/javascript": [
       "\n",
       "(function(global) {\n",
       "  function now() {\n",
       "    return new Date();\n",
       "  }\n",
       "\n",
       "  var force = \"1\";\n",
       "\n",
       "  if (typeof (window._bokeh_onload_callbacks) === \"undefined\" || force !== \"\") {\n",
       "    window._bokeh_onload_callbacks = [];\n",
       "    window._bokeh_is_loading = undefined;\n",
       "  }\n",
       "\n",
       "\n",
       "  \n",
       "  if (typeof (window._bokeh_timeout) === \"undefined\" || force !== \"\") {\n",
       "    window._bokeh_timeout = Date.now() + 5000;\n",
       "    window._bokeh_failed_load = false;\n",
       "  }\n",
       "\n",
       "  var NB_LOAD_WARNING = {'data': {'text/html':\n",
       "     \"<div style='background-color: #fdd'>\\n\"+\n",
       "     \"<p>\\n\"+\n",
       "     \"BokehJS does not appear to have successfully loaded. If loading BokehJS from CDN, this \\n\"+\n",
       "     \"may be due to a slow or bad network connection. Possible fixes:\\n\"+\n",
       "     \"</p>\\n\"+\n",
       "     \"<ul>\\n\"+\n",
       "     \"<li>re-rerun `output_notebook()` to attempt to load from CDN again, or</li>\\n\"+\n",
       "     \"<li>use INLINE resources instead, as so:</li>\\n\"+\n",
       "     \"</ul>\\n\"+\n",
       "     \"<code>\\n\"+\n",
       "     \"from bokeh.resources import INLINE\\n\"+\n",
       "     \"output_notebook(resources=INLINE)\\n\"+\n",
       "     \"</code>\\n\"+\n",
       "     \"</div>\"}};\n",
       "\n",
       "  function display_loaded() {\n",
       "    if (window.Bokeh !== undefined) {\n",
       "      Bokeh.$(\"#47750e3e-0724-43c7-8b13-29c7168237e4\").text(\"BokehJS successfully loaded.\");\n",
       "    } else if (Date.now() < window._bokeh_timeout) {\n",
       "      setTimeout(display_loaded, 100)\n",
       "    }\n",
       "  }\n",
       "\n",
       "  function run_callbacks() {\n",
       "    window._bokeh_onload_callbacks.forEach(function(callback) { callback() });\n",
       "    delete window._bokeh_onload_callbacks\n",
       "    console.info(\"Bokeh: all callbacks have finished\");\n",
       "  }\n",
       "\n",
       "  function load_libs(js_urls, callback) {\n",
       "    window._bokeh_onload_callbacks.push(callback);\n",
       "    if (window._bokeh_is_loading > 0) {\n",
       "      console.log(\"Bokeh: BokehJS is being loaded, scheduling callback at\", now());\n",
       "      return null;\n",
       "    }\n",
       "    if (js_urls == null || js_urls.length === 0) {\n",
       "      run_callbacks();\n",
       "      return null;\n",
       "    }\n",
       "    console.log(\"Bokeh: BokehJS not loaded, scheduling load and callback at\", now());\n",
       "    window._bokeh_is_loading = js_urls.length;\n",
       "    for (var i = 0; i < js_urls.length; i++) {\n",
       "      var url = js_urls[i];\n",
       "      var s = document.createElement('script');\n",
       "      s.src = url;\n",
       "      s.async = false;\n",
       "      s.onreadystatechange = s.onload = function() {\n",
       "        window._bokeh_is_loading--;\n",
       "        if (window._bokeh_is_loading === 0) {\n",
       "          console.log(\"Bokeh: all BokehJS libraries loaded\");\n",
       "          run_callbacks()\n",
       "        }\n",
       "      };\n",
       "      s.onerror = function() {\n",
       "        console.warn(\"failed to load library \" + url);\n",
       "      };\n",
       "      console.log(\"Bokeh: injecting script tag for BokehJS library: \", url);\n",
       "      document.getElementsByTagName(\"head\")[0].appendChild(s);\n",
       "    }\n",
       "  };var element = document.getElementById(\"47750e3e-0724-43c7-8b13-29c7168237e4\");\n",
       "  if (element == null) {\n",
       "    console.log(\"Bokeh: ERROR: autoload.js configured with elementid '47750e3e-0724-43c7-8b13-29c7168237e4' but no matching script tag was found. \")\n",
       "    return false;\n",
       "  }\n",
       "\n",
       "  var js_urls = ['https://cdn.pydata.org/bokeh/release/bokeh-0.12.2.min.js', 'https://cdn.pydata.org/bokeh/release/bokeh-widgets-0.12.2.min.js', 'https://cdn.pydata.org/bokeh/release/bokeh-compiler-0.12.2.min.js'];\n",
       "\n",
       "  var inline_js = [\n",
       "    function(Bokeh) {\n",
       "      Bokeh.set_log_level(\"info\");\n",
       "    },\n",
       "    \n",
       "    function(Bokeh) {\n",
       "      \n",
       "      Bokeh.$(\"#47750e3e-0724-43c7-8b13-29c7168237e4\").text(\"BokehJS is loading...\");\n",
       "    },\n",
       "    function(Bokeh) {\n",
       "      console.log(\"Bokeh: injecting CSS: https://cdn.pydata.org/bokeh/release/bokeh-0.12.2.min.css\");\n",
       "      Bokeh.embed.inject_css(\"https://cdn.pydata.org/bokeh/release/bokeh-0.12.2.min.css\");\n",
       "      console.log(\"Bokeh: injecting CSS: https://cdn.pydata.org/bokeh/release/bokeh-widgets-0.12.2.min.css\");\n",
       "      Bokeh.embed.inject_css(\"https://cdn.pydata.org/bokeh/release/bokeh-widgets-0.12.2.min.css\");\n",
       "    }\n",
       "  ];\n",
       "\n",
       "  function run_inline_js() {\n",
       "    \n",
       "    if ((window.Bokeh !== undefined) || (force === \"1\")) {\n",
       "      for (var i = 0; i < inline_js.length; i++) {\n",
       "        inline_js[i](window.Bokeh);\n",
       "      }if (force === \"1\") {\n",
       "        display_loaded();\n",
       "      }} else if (Date.now() < window._bokeh_timeout) {\n",
       "      setTimeout(run_inline_js, 100);\n",
       "    } else if (!window._bokeh_failed_load) {\n",
       "      console.log(\"Bokeh: BokehJS failed to load within specified timeout.\");\n",
       "      window._bokeh_failed_load = true;\n",
       "    } else if (!force) {\n",
       "      var cell = $(\"#47750e3e-0724-43c7-8b13-29c7168237e4\").parents('.cell').data().cell;\n",
       "      cell.output_area.append_execute_result(NB_LOAD_WARNING)\n",
       "    }\n",
       "\n",
       "  }\n",
       "\n",
       "  if (window._bokeh_is_loading === 0) {\n",
       "    console.log(\"Bokeh: BokehJS loaded, going straight to plotting\");\n",
       "    run_inline_js();\n",
       "  } else {\n",
       "    load_libs(js_urls, function() {\n",
       "      console.log(\"Bokeh: BokehJS plotting callback run at\", now());\n",
       "      run_inline_js();\n",
       "    });\n",
       "  }\n",
       "}(this));"
      ]
     },
     "metadata": {},
     "output_type": "display_data"
    }
   ],
   "source": [
    "from bokeh.plotting import figure, output_notebook, show\n",
    "output_notebook()\n",
    "\n",
    "from datashader import transfer_functions as tf\n",
    "from datashader.colors import Greys9\n",
    "Greys9_r = list(reversed(Greys9))[:-2]\n",
    "\n",
    "from bokeh.tile_providers import STAMEN_TERRAIN\n",
    "\n",
    "import datashader as ds\n",
    "from datashader.bokeh_ext import InteractiveImage\n",
    "from functools import partial\n",
    "from datashader.utils import export_image\n",
    "from datashader.colors import colormap_select, Greys9, Hot, viridis, inferno\n",
    "from IPython.core.display import HTML, display\n",
    "\n",
    "def plot_agents(df, name, sum_attrib=None, theme=Hot):\n",
    "    df['ones'] = 1\n",
    "    region = x_range, y_range = ((df.x.min(),df.x.max()), (df.y.min(),df.y.max()))\n",
    "\n",
    "    plot_width  = int(750)\n",
    "    plot_height = int(plot_width//1.2)\n",
    "\n",
    "    def base_plot(tools='pan,wheel_zoom,reset',plot_width=plot_width, plot_height=plot_height, **plot_args):\n",
    "        p = figure(tools=tools, plot_width=plot_width, plot_height=plot_height,\n",
    "            x_range=x_range, y_range=y_range, outline_line_color=None,\n",
    "            min_border=0, min_border_left=0, min_border_right=0,\n",
    "            min_border_top=0, min_border_bottom=0, **plot_args)\n",
    "\n",
    "        p.axis.visible = False\n",
    "        p.xgrid.grid_line_color = None\n",
    "        p.ygrid.grid_line_color = None\n",
    "        return p\n",
    "\n",
    "    options = dict(line_color=None, fill_color='blue', size=5)\n",
    "\n",
    "    background = \"black\"\n",
    "    export = partial(export_image, export_path=\"export\", background=background)\n",
    "    cm = partial(colormap_select, reverse=(background==\"black\"))\n",
    "\n",
    "    def create_image(x_range, y_range, w=plot_width, h=plot_height):\n",
    "        cvs = ds.Canvas(plot_width=w, plot_height=h, x_range=x_range, y_range=y_range)\n",
    "        if sum_attrib:\n",
    "            agg = cvs.points(df, 'x', 'y',  ds.count(sum_attrib))\n",
    "        else:\n",
    "            agg = cvs.points(df, 'x', 'y',  ds.count('ones'))\n",
    "        img = tf.shade(agg, cmap=theme, how='eq_hist')\n",
    "        return tf.dynspread(img, threshold=0.5, max_px=4)\n",
    "\n",
    "    p = base_plot(background_fill_color=background)\n",
    "    #p.add_tile(STAMEN_TERRAIN)\n",
    "    export(create_image(*region), name)\n",
    "    return InteractiveImage(p, create_image)\n",
    "\n",
    "def plot_agents_by_cat(df, name):\n",
    "    df['ones'] = 1\n",
    "    region = x_range, y_range = ((df.x.min(),df.x.max()), (df.y.min(),df.y.max()))\n",
    "\n",
    "    plot_width  = int(750)\n",
    "    plot_height = int(plot_width//1.2)\n",
    "\n",
    "    def base_plot(tools='pan,wheel_zoom,reset',plot_width=plot_width, plot_height=plot_height, **plot_args):\n",
    "        p = figure(tools=tools, plot_width=plot_width, plot_height=plot_height,\n",
    "            x_range=x_range, y_range=y_range, outline_line_color=None,\n",
    "            min_border=0, min_border_left=0, min_border_right=0,\n",
    "            min_border_top=0, min_border_bottom=0, **plot_args)\n",
    "\n",
    "        p.axis.visible = False\n",
    "        p.xgrid.grid_line_color = None\n",
    "        p.ygrid.grid_line_color = None\n",
    "        return p\n",
    "\n",
    "    options = dict(line_color=None, fill_color='blue', size=5)\n",
    "\n",
    "    background = \"black\"\n",
    "    export = partial(export_image, export_path=\"export\", background=background)\n",
    "    cm = partial(colormap_select, reverse=(background==\"black\"))\n",
    "\n",
    "    def create_image(x_range, y_range, w=plot_width, h=plot_height):\n",
    "        cvs = ds.Canvas(plot_width=w, plot_height=h, x_range=x_range, y_range=y_range)\n",
    "        color_key = color_key = {'low':'aqua', 'high':'red'}\n",
    "\n",
    "        agg = cvs.points(df, 'x', 'y',  ds.count_cat('proba_class'))\n",
    "\n",
    "        img = tf.shade(agg, color_key=color_key, how='eq_hist')\n",
    "        return tf.dynspread(img, threshold=0.5, max_px=4)\n",
    "\n",
    "    p = base_plot(background_fill_color=background)\n",
    "    #p.add_tile(STAMEN_TERRAIN)\n",
    "    export(create_image(*region), name)\n",
    "    return InteractiveImage(p, create_image)"
   ]
  }
 ],
 "metadata": {
  "anaconda-cloud": {},
  "kernelspec": {
   "display_name": "Python 2",
   "language": "python",
   "name": "python2"
  },
  "language_info": {
   "codemirror_mode": {
    "name": "ipython",
    "version": 2
   },
   "file_extension": ".py",
   "mimetype": "text/x-python",
   "name": "python",
   "nbconvert_exporter": "python",
   "pygments_lexer": "ipython2",
   "version": "2.7.12"
  }
 },
 "nbformat": 4,
 "nbformat_minor": 1
}
