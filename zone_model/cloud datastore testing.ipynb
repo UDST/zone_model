{
 "cells": [
  {
   "cell_type": "code",
   "execution_count": 5,
   "metadata": {
    "collapsed": true
   },
   "outputs": [],
   "source": [
    "from google.cloud import datastore\n",
    "client = datastore.Client()\n"
   ]
  },
  {
   "cell_type": "code",
   "execution_count": 8,
   "metadata": {
    "collapsed": false
   },
   "outputs": [],
   "source": [
    "import datetime\n",
    "region = 'sandiego_zone'\n",
    "run_id = 'abc123'\n",
    "model_type = 'zone'\n",
    "\n",
    "def new_cloud_datastore_record(region, run_id, model_type):\n",
    "    autospec_run = datastore.Entity(key=client.key('Autospec', run_id), exclude_from_indexes=('yaml',))\n",
    "    autospec_run['created'] = datetime.datetime.utcnow()\n",
    "    autospec_run['region'] = unicode(region)\n",
    "    autospec_run['run_id'] = unicode(run_id)\n",
    "    autospec_run['model_type'] = unicode(model_type)\n",
    "    autospec_run['status'] = u'Initializing'\n",
    "    autospec_run['progress'] = 0.0\n",
    "    client.put(autospec_run)\n",
    "    return autospec_run.key.id"
   ]
  },
  {
   "cell_type": "code",
   "execution_count": 9,
   "metadata": {
    "collapsed": false
   },
   "outputs": [],
   "source": [
    "new_cloud_datastore_record(region, run_id, model_type)"
   ]
  },
  {
   "cell_type": "code",
   "execution_count": 12,
   "metadata": {
    "collapsed": true
   },
   "outputs": [],
   "source": [
    "def record_progress(run_id, status, progress):\n",
    "    key = client.key('Autospec', run_id)\n",
    "    autospec_run = client.get(key)\n",
    "    autospec_run['status'] = unicode(status)\n",
    "    autospec_run['progress'] = progress\n",
    "    client.put(autospec_run)"
   ]
  },
  {
   "cell_type": "code",
   "execution_count": 13,
   "metadata": {
    "collapsed": false
   },
   "outputs": [],
   "source": [
    "record_progress(run_id, 'Running', .2)"
   ]
  },
  {
   "cell_type": "code",
   "execution_count": null,
   "metadata": {
    "collapsed": true
   },
   "outputs": [],
   "source": []
  },
  {
   "cell_type": "code",
   "execution_count": null,
   "metadata": {
    "collapsed": true
   },
   "outputs": [],
   "source": []
  },
  {
   "cell_type": "code",
   "execution_count": null,
   "metadata": {
    "collapsed": true
   },
   "outputs": [],
   "source": []
  },
  {
   "cell_type": "code",
   "execution_count": null,
   "metadata": {
    "collapsed": true
   },
   "outputs": [],
   "source": []
  },
  {
   "cell_type": "code",
   "execution_count": null,
   "metadata": {
    "collapsed": true
   },
   "outputs": [],
   "source": []
  },
  {
   "cell_type": "code",
   "execution_count": null,
   "metadata": {
    "collapsed": true
   },
   "outputs": [],
   "source": []
  },
  {
   "cell_type": "code",
   "execution_count": null,
   "metadata": {
    "collapsed": true
   },
   "outputs": [],
   "source": []
  },
  {
   "cell_type": "code",
   "execution_count": 92,
   "metadata": {
    "collapsed": false
   },
   "outputs": [],
   "source": [
    "import yaml\n",
    "\n",
    "import utils\n",
    "import orca\n",
    "import datasources\n",
    "import variables"
   ]
  },
  {
   "cell_type": "code",
   "execution_count": 2,
   "metadata": {
    "collapsed": false
   },
   "outputs": [],
   "source": [
    "def get_selected_models_by_version(model_version_id):\n",
    "    query = client.query(kind='Spec')\n",
    "    query.add_filter('run_id', '=', model_version_id)\n",
    "    query.add_filter('selected', '=', True)\n",
    "    return list(query.fetch())"
   ]
  },
  {
   "cell_type": "code",
   "execution_count": 3,
   "metadata": {
    "collapsed": false
   },
   "outputs": [],
   "source": [
    "model_version_id = '70321032639rhx'\n",
    "models = get_selected_models_by_version(model_version_id)"
   ]
  },
  {
   "cell_type": "code",
   "execution_count": 4,
   "metadata": {
    "collapsed": false
   },
   "outputs": [
    {
     "data": {
      "text/plain": [
       "10"
      ]
     },
     "execution_count": 4,
     "metadata": {},
     "output_type": "execute_result"
    }
   ],
   "source": [
    "len(models)"
   ]
  },
  {
   "cell_type": "code",
   "execution_count": 95,
   "metadata": {
    "collapsed": false
   },
   "outputs": [
    {
     "data": {
      "text/plain": [
       "[u'segmentation',\n",
       " u'run_id',\n",
       " u'fit_filters',\n",
       " u'segment_id',\n",
       " u'dep_var',\n",
       " u'variables',\n",
       " u'tscores',\n",
       " u'r2',\n",
       " u'created',\n",
       " u'region',\n",
       " u'selected',\n",
       " u'observations_name',\n",
       " u'yaml',\n",
       " u'model_type',\n",
       " u'creator',\n",
       " u'model_name']"
      ]
     },
     "execution_count": 95,
     "metadata": {},
     "output_type": "execute_result"
    }
   ],
   "source": [
    "model = models[0]\n",
    "\n",
    "model.keys()"
   ]
  },
  {
   "cell_type": "code",
   "execution_count": 97,
   "metadata": {
    "collapsed": false
   },
   "outputs": [],
   "source": [
    "def make_lcm_func(model_name, yaml_file, agents_name, alts_name, alts_id_name, supply_attrib, remaining_capacity_attrib):\n",
    "    @orca.step(model_name)\n",
    "    def func():\n",
    "        agents = orca.get_table(agents_name)\n",
    "        alts = orca.get_table(alts_name)\n",
    "        print yaml_file\n",
    "        return utils.lcm_simulate(yaml_file, agents, alts,\n",
    "                                  [],\n",
    "                                  alts_id_name, supply_attrib,\n",
    "                                  remaining_capacity_attrib)\n",
    "    return func\n",
    "\n",
    "def make_repm_func(model_name, yaml_file, dep_var, observations_name):\n",
    "    \"\"\"\n",
    "    Generator function for block REPMs.\n",
    "    \"\"\"\n",
    "\n",
    "    @orca.step(model_name)\n",
    "    def func():\n",
    "        obs = orca.get_table(observations_name)\n",
    "        print yaml_file\n",
    "        return utils.hedonic_simulate(yaml_file, obs,\n",
    "                                      [], dep_var)\n",
    "    return func"
   ]
  },
  {
   "cell_type": "code",
   "execution_count": 99,
   "metadata": {
    "collapsed": false
   },
   "outputs": [],
   "source": [
    "import yaml\n",
    "for model in models:\n",
    "    model_type = model['model_type']\n",
    "    model_name = model['model_name']\n",
    "    yaml_cfg = model['yaml']\n",
    "    dict_cfg = yaml.load(yaml_cfg)\n",
    "    \n",
    "    if model_type == 'location':\n",
    "        agents = model['agents']\n",
    "        alternatives = model['alternatives']\n",
    "        alternatives_id_name = dict_cfg['choice_column']\n",
    "        supply_variable = agents + '_spaces'\n",
    "        vacant_variable = 'vacant_' + supply_variable\n",
    "        make_lcm_func(model_name,  yaml_cfg, agents, alternatives, alternatives_id_name, \n",
    "                      supply_variable, vacant_variable)\n",
    "\n",
    "    elif model_type == 'regression':\n",
    "        dep_var = model['dep_var']\n",
    "        obs_name = model['observations_name']\n",
    "        make_repm_func(model_name, yaml_cfg, dep_var, obs_name)\n",
    "        \n",
    "    else:\n",
    "        print 'Model type \"%s\" unrecognized' % model_type"
   ]
  },
  {
   "cell_type": "code",
   "execution_count": 82,
   "metadata": {
    "collapsed": true
   },
   "outputs": [],
   "source": [
    "[u'segmentation',\n",
    " u'run_id',\n",
    " u'fit_filters',\n",
    " u'segment_id',\n",
    " u'dep_var',\n",
    " u'variables',\n",
    " u'tscores',\n",
    " u'r2',\n",
    " u'created',\n",
    " u'region',\n",
    " u'selected',\n",
    " u'observations_name',\n",
    " u'yaml',\n",
    " u'model_type',\n",
    " u'creator',\n",
    " u'model_name']"
   ]
  },
  {
   "cell_type": "code",
   "execution_count": 79,
   "metadata": {
    "collapsed": false
   },
   "outputs": [
    {
     "data": {
      "text/plain": [
       "u'zones'"
      ]
     },
     "execution_count": 79,
     "metadata": {},
     "output_type": "execute_result"
    }
   ],
   "source": [
    "model['observations_name']"
   ]
  },
  {
   "cell_type": "code",
   "execution_count": 84,
   "metadata": {
    "collapsed": false
   },
   "outputs": [
    {
     "data": {
      "text/plain": [
       "'zone_id'"
      ]
     },
     "execution_count": 84,
     "metadata": {},
     "output_type": "execute_result"
    }
   ],
   "source": [
    "\n",
    "yaml.load(model['yaml'])['choice_column']"
   ]
  },
  {
   "cell_type": "code",
   "execution_count": null,
   "metadata": {
    "collapsed": true
   },
   "outputs": [],
   "source": []
  },
  {
   "cell_type": "code",
   "execution_count": 3,
   "metadata": {
    "collapsed": false
   },
   "outputs": [
    {
     "name": "stdout",
     "output_type": "stream",
     "text": [
      "CPU times: user 24 ms, sys: 8 ms, total: 32 ms\n",
      "Wall time: 990 ms\n"
     ]
    }
   ],
   "source": [
    "%%time\n",
    "results = list(query.fetch())"
   ]
  },
  {
   "cell_type": "code",
   "execution_count": 4,
   "metadata": {
    "collapsed": false
   },
   "outputs": [
    {
     "data": {
      "text/plain": [
       "u'70318175719s0z'"
      ]
     },
     "execution_count": 4,
     "metadata": {},
     "output_type": "execute_result"
    }
   ],
   "source": [
    "results[0]['run_id']"
   ]
  },
  {
   "cell_type": "code",
   "execution_count": 5,
   "metadata": {
    "collapsed": false
   },
   "outputs": [
    {
     "data": {
      "text/plain": [
       "[(u'run_id', '=', u'70318175719s0z')]"
      ]
     },
     "execution_count": 5,
     "metadata": {},
     "output_type": "execute_result"
    }
   ],
   "source": [
    "query.filters"
   ]
  },
  {
   "cell_type": "code",
   "execution_count": 4,
   "metadata": {
    "collapsed": false
   },
   "outputs": [
    {
     "data": {
      "text/plain": [
       "17"
      ]
     },
     "execution_count": 4,
     "metadata": {},
     "output_type": "execute_result"
    }
   ],
   "source": [
    "len(results)"
   ]
  },
  {
   "cell_type": "code",
   "execution_count": null,
   "metadata": {
    "collapsed": true
   },
   "outputs": [],
   "source": []
  },
  {
   "cell_type": "code",
   "execution_count": 21,
   "metadata": {
    "collapsed": true
   },
   "outputs": [],
   "source": [
    "def list_tasks(client):\n",
    "    query = client.query(kind='Spec')\n",
    "    query.add_filter('selected', '=', True)\n",
    "    query.add_filter('model_type', '=', 'regression')\n",
    "    return list(query.fetch())"
   ]
  },
  {
   "cell_type": "code",
   "execution_count": 22,
   "metadata": {
    "collapsed": false
   },
   "outputs": [],
   "source": [
    "selected = list_tasks(client)"
   ]
  },
  {
   "cell_type": "code",
   "execution_count": 23,
   "metadata": {
    "collapsed": false
   },
   "outputs": [
    {
     "data": {
      "text/plain": [
       "3"
      ]
     },
     "execution_count": 23,
     "metadata": {},
     "output_type": "execute_result"
    }
   ],
   "source": [
    "len(selected)"
   ]
  },
  {
   "cell_type": "code",
   "execution_count": 28,
   "metadata": {
    "collapsed": false
   },
   "outputs": [
    {
     "data": {
      "text/plain": [
       "<Entity(u'Spec', 5740532424769536L) {u'segmentation': u'all_zones', u'run_id': u'70320123805k9u', u'variables': [u'x', u'm2_per_job', u'vacant_residential_units'], u'dep_var': u'np.log1p(avg_residential_value)', u'tscores': <Entity(u'Tscores',) {u'x': -4.591068751049374, u'vacant_residential_units': -2.0155107436500077, u'm2_per_job': -3.404322113387526, u'Intercept': -4.301312681017031}>, u'r2': 0.11118497503951041, u'segment_id': '1', u'region': u'sandiego_zone', u'selected': True, u'observations_name': u'zones', u'created': datetime.datetime(2017, 3, 20, 19, 39, 53, 707425, tzinfo=<UTC>), u'yaml': u'name: RegressionModel\\n\\nmodel_type: regression\\n\\nfit_filters:\\n- avg_residential_value > 0\\n\\npredict_filters: all_zones == 1\\n\\nmodel_expression:\\n    left_side: np.log1p(avg_residential_value)\\n    right_side:\\n    - x\\n    - m2_per_job\\n    - vacant_residential_units\\n\\nytransform: np.exp\\n\\nfitted: true\\n\\nfit_parameters:\\n    Coefficient:\\n        Intercept: -78.21502522657191\\n        m2_per_job: -0.00021741367202126732\\n        vacant_residential_units: -0.0001116516064865243\\n        x: -0.7134214841264661\\n    Std. Error:\\n        Intercept: 18.183989639199687\\n        m2_per_job: 6.386401309273472e-05\\n        vacant_residential_units: 5.539618522912351e-05\\n        x: 0.1553933349317412\\n    T-Score:\\n        Intercept: -4.301312681017031\\n        m2_per_job: -3.404322113387526\\n        vacant_residential_units: -2.0155107436500077\\n        x: -4.591068751049374\\n\\nfit_rsquared_adj: 0.11118497503951041\\n\\nfit_rsquared: 0.12287990957846429\\n', u'model_type': u'regression', u'model_name': u'repm_value1', u'creator': u'autospec', u'fit_filters': ['avg_residential_value > 0']}>"
      ]
     },
     "execution_count": 28,
     "metadata": {},
     "output_type": "execute_result"
    }
   ],
   "source": [
    "selected[2]"
   ]
  },
  {
   "cell_type": "code",
   "execution_count": 4,
   "metadata": {
    "collapsed": true
   },
   "outputs": [],
   "source": [
    "client = datastore_client"
   ]
  },
  {
   "cell_type": "code",
   "execution_count": 3,
   "metadata": {
    "collapsed": false
   },
   "outputs": [
    {
     "data": {
      "text/plain": [
       "u'swarm-test-1470707908646'"
      ]
     },
     "execution_count": 3,
     "metadata": {},
     "output_type": "execute_result"
    }
   ],
   "source": [
    "datastore_client.project"
   ]
  },
  {
   "cell_type": "code",
   "execution_count": 5,
   "metadata": {
    "collapsed": true
   },
   "outputs": [],
   "source": [
    "kind = \"Task\"\n",
    "\n",
    "task_key = datastore_client.key(kind)\n",
    "\n",
    "task = datastore.Entity(key=task_key)\n",
    "\n",
    "task['description'] = 'Buy milk'\n"
   ]
  },
  {
   "cell_type": "code",
   "execution_count": 13,
   "metadata": {
    "collapsed": false
   },
   "outputs": [],
   "source": [
    "datastore_client.put(task)\n"
   ]
  },
  {
   "cell_type": "code",
   "execution_count": 1,
   "metadata": {
    "collapsed": false
   },
   "outputs": [],
   "source": [
    "import datetime"
   ]
  },
  {
   "cell_type": "code",
   "execution_count": 3,
   "metadata": {
    "collapsed": false
   },
   "outputs": [],
   "source": [
    "a = datetime.datetime.utcnow()"
   ]
  },
  {
   "cell_type": "code",
   "execution_count": 8,
   "metadata": {
    "collapsed": false
   },
   "outputs": [
    {
     "data": {
      "text/plain": [
       "'2017-03-17 21:06:18.571389'"
      ]
     },
     "execution_count": 8,
     "metadata": {},
     "output_type": "execute_result"
    }
   ],
   "source": [
    "str(a)"
   ]
  },
  {
   "cell_type": "code",
   "execution_count": 5,
   "metadata": {
    "collapsed": false
   },
   "outputs": [],
   "source": [
    "import datetime\n",
    "key = client.key('Task')\n",
    "task = datastore.Entity(\n",
    "    key, exclude_from_indexes=['description'])\n",
    "\n",
    "task.update({\n",
    "    'created': datetime.datetime.utcnow(),\n",
    "    'description': 'blah blah',\n",
    "    'done': False\n",
    "})"
   ]
  },
  {
   "cell_type": "code",
   "execution_count": 7,
   "metadata": {
    "collapsed": false
   },
   "outputs": [],
   "source": [
    "client.put(task)"
   ]
  },
  {
   "cell_type": "code",
   "execution_count": 9,
   "metadata": {
    "collapsed": false
   },
   "outputs": [
    {
     "data": {
      "text/plain": [
       "<Entity('Task', 5632018196987904L) {'done': False, 'description': 'blah blah', 'created': datetime.datetime(2017, 3, 20, 1, 33, 25, 558358)}>"
      ]
     },
     "execution_count": 9,
     "metadata": {},
     "output_type": "execute_result"
    }
   ],
   "source": [
    "task"
   ]
  },
  {
   "cell_type": "code",
   "execution_count": 22,
   "metadata": {
    "collapsed": false
   },
   "outputs": [
    {
     "data": {
      "text/plain": [
       "5632018196987904L"
      ]
     },
     "execution_count": 22,
     "metadata": {},
     "output_type": "execute_result"
    }
   ],
   "source": [
    "task.key.id"
   ]
  },
  {
   "cell_type": "code",
   "execution_count": 20,
   "metadata": {
    "collapsed": false
   },
   "outputs": [
    {
     "data": {
      "text/plain": [
       "datetime.datetime(2017, 3, 20, 1, 33, 25, 558358, tzinfo=<UTC>)"
      ]
     },
     "execution_count": 20,
     "metadata": {},
     "output_type": "execute_result"
    }
   ],
   "source": [
    "key = client.key('Task', task.key.id)\n",
    "client.get(key)['created']"
   ]
  },
  {
   "cell_type": "code",
   "execution_count": 16,
   "metadata": {
    "collapsed": true
   },
   "outputs": [],
   "source": [
    "def add_task(client, description):\n",
    "    key = client.key('Task')\n",
    "\n",
    "    task = datastore.Entity(\n",
    "        key, exclude_from_indexes=['description'])\n",
    "\n",
    "    task.update({\n",
    "        'created': datetime.datetime.utcnow(),\n",
    "        'description': description,\n",
    "        'done': False\n",
    "    })\n",
    "\n",
    "    client.put(task)\n",
    "\n",
    "    return task.key"
   ]
  },
  {
   "cell_type": "code",
   "execution_count": 20,
   "metadata": {
    "collapsed": false
   },
   "outputs": [],
   "source": [
    "task_id = add_task(datastore_client, 'afasfasfasfasfadsfa yoyoyo eddie')"
   ]
  },
  {
   "cell_type": "code",
   "execution_count": 18,
   "metadata": {
    "collapsed": true
   },
   "outputs": [],
   "source": [
    "def mark_done(client, task_id):\n",
    "    with client.transaction():\n",
    "        key = client.key('Task', task_id)\n",
    "        task = client.get(key)\n",
    "\n",
    "        if not task:\n",
    "            raise ValueError(\n",
    "                'Task {} does not exist.'.format(task_id))\n",
    "\n",
    "        task['done'] = True\n",
    "\n",
    "        client.put(task)"
   ]
  },
  {
   "cell_type": "code",
   "execution_count": 23,
   "metadata": {
    "collapsed": false
   },
   "outputs": [
    {
     "data": {
      "text/plain": [
       "5659313586569216L"
      ]
     },
     "execution_count": 23,
     "metadata": {},
     "output_type": "execute_result"
    }
   ],
   "source": [
    "task_id.id"
   ]
  },
  {
   "cell_type": "code",
   "execution_count": 24,
   "metadata": {
    "collapsed": false
   },
   "outputs": [],
   "source": [
    "mark_done(datastore_client, task_id.id)"
   ]
  },
  {
   "cell_type": "code",
   "execution_count": 2,
   "metadata": {
    "collapsed": false
   },
   "outputs": [],
   "source": [
    "def list_tasks(client):\n",
    "    query = client.query(kind='Task')\n",
    "    query.order = ['created']\n",
    "\n",
    "    return list(query.fetch())"
   ]
  },
  {
   "cell_type": "code",
   "execution_count": 3,
   "metadata": {
    "collapsed": false
   },
   "outputs": [
    {
     "data": {
      "text/plain": [
       "[<Entity(u'Task', 5629499534213120L) {u'done': False, u'description': u'Learn Google Cloud Datastore', u'created': datetime.datetime(2017, 3, 16, 21, 21, 13, 994000, tzinfo=<UTC>)}>,\n",
       " <Entity(u'Task', 5649391675244544L) {u'randtext': u'yoyoyo autospec yoyoyo', u'done': False, u'description': u'', u'created': datetime.datetime(2017, 3, 16, 21, 58, 8, 348000, tzinfo=<UTC>)}>,\n",
       " <Entity(u'Task', 5639445604728832L) {u'done': False, u'description': 'yoyoyo987654321', u'created': datetime.datetime(2017, 3, 16, 22, 54, 54, 409101, tzinfo=<UTC>)}>,\n",
       " <Entity(u'Task', 5707702298738688L) {u'done': False, u'description': 'afasfasfasfasfadsfa yoyoyo eddie', u'created': datetime.datetime(2017, 3, 16, 22, 58, 11, 711875, tzinfo=<UTC>)}>,\n",
       " <Entity(u'Task', 5659313586569216L) {u'done': True, u'description': 'afasfasfasfasfadsfa yoyoyo eddie', u'created': datetime.datetime(2017, 3, 16, 23, 0, 17, 68859, tzinfo=<UTC>)}>]"
      ]
     },
     "execution_count": 3,
     "metadata": {},
     "output_type": "execute_result"
    }
   ],
   "source": [
    "list_tasks(datastore_client)"
   ]
  },
  {
   "cell_type": "code",
   "execution_count": 4,
   "metadata": {
    "collapsed": false
   },
   "outputs": [
    {
     "data": {
      "text/plain": [
       "[<Entity(u'Task', 5629499534213120L) {u'done': False, u'description': u'Learn Google Cloud Datastore', u'created': datetime.datetime(2017, 3, 16, 21, 21, 13, 994000, tzinfo=<UTC>)}>,\n",
       " <Entity(u'Task', 5649391675244544L) {u'randtext': u'yoyoyo autospec yoyoyo', u'done': False, u'description': u'', u'created': datetime.datetime(2017, 3, 16, 21, 58, 8, 348000, tzinfo=<UTC>)}>,\n",
       " <Entity(u'Task', 5639445604728832L) {u'done': False, u'description': 'yoyoyo987654321', u'created': datetime.datetime(2017, 3, 16, 22, 54, 54, 409101, tzinfo=<UTC>)}>,\n",
       " <Entity(u'Task', 5707702298738688L) {u'done': False, u'description': 'afasfasfasfasfadsfa yoyoyo eddie', u'created': datetime.datetime(2017, 3, 16, 22, 58, 11, 711875, tzinfo=<UTC>)}>,\n",
       " <Entity(u'Task', 5659313586569216L) {u'done': True, u'description': 'afasfasfasfasfadsfa yoyoyo eddie', u'created': datetime.datetime(2017, 3, 16, 23, 0, 17, 68859, tzinfo=<UTC>)}>]"
      ]
     },
     "execution_count": 4,
     "metadata": {},
     "output_type": "execute_result"
    }
   ],
   "source": [
    "list_tasks(datastore_client)"
   ]
  },
  {
   "cell_type": "code",
   "execution_count": 7,
   "metadata": {
    "collapsed": false
   },
   "outputs": [],
   "source": [
    "task = datastore.Entity(client.key('Task'))\n",
    "task.update({\n",
    "    'category': 'Personal',\n",
    "    'done': False,\n",
    "    'priority': 4,\n",
    "    'description': 'Learn Cloud Datastore'\n",
    "})"
   ]
  },
  {
   "cell_type": "code",
   "execution_count": 8,
   "metadata": {
    "collapsed": true
   },
   "outputs": [],
   "source": [
    "client.put(task)"
   ]
  },
  {
   "cell_type": "code",
   "execution_count": 9,
   "metadata": {
    "collapsed": false
   },
   "outputs": [
    {
     "name": "stdout",
     "output_type": "stream",
     "text": [
      "Saved None: Learn Cloud Datastore\n"
     ]
    }
   ],
   "source": [
    "print('Saved {}: {}'.format(task.key.name, task['description']))"
   ]
  },
  {
   "cell_type": "code",
   "execution_count": 5,
   "metadata": {
    "collapsed": false
   },
   "outputs": [],
   "source": [
    "complete_key = client.key('Task', 'sample_task')\n",
    "\n",
    "task = datastore.Entity(key=complete_key)\n",
    "\n",
    "task.update({\n",
    "    'category': 'Personal',\n",
    "    'done': False,\n",
    "    'priority': 4,\n",
    "    'description': 'Learn Cloud Datastore'\n",
    "})\n",
    "\n",
    "client.put(task)"
   ]
  },
  {
   "cell_type": "code",
   "execution_count": 11,
   "metadata": {
    "collapsed": false
   },
   "outputs": [
    {
     "name": "stdout",
     "output_type": "stream",
     "text": [
      "<Entity(u'Task', u'sample_task') {u'priority': 4L, u'category': 'Personal', u'done': False, u'description': 'Learn Cloud Datastore'}>\n"
     ]
    }
   ],
   "source": [
    "key = client.key('Task', 'sample_task')\n",
    "task = client.get(key)\n",
    "print task"
   ]
  },
  {
   "cell_type": "code",
   "execution_count": 17,
   "metadata": {
    "collapsed": false
   },
   "outputs": [],
   "source": [
    "def create_task(name, description):\n",
    "    complete_key = client.key('Task', name)\n",
    "    task = datastore.Entity(key=complete_key)\n",
    "\n",
    "    task.update({\n",
    "        'category': 'Personal',\n",
    "        'done': False,\n",
    "        'priority': 1,\n",
    "        'description': description\n",
    "    })\n",
    "    return task"
   ]
  },
  {
   "cell_type": "code",
   "execution_count": 18,
   "metadata": {
    "collapsed": true
   },
   "outputs": [],
   "source": [
    "task1 = create_task('yoyo1', 'dfajdfljdklfja yoyoy -1')\n",
    "task2 = create_task('yoyo2', 'dfajdfljdklfja yoyoy -2')"
   ]
  },
  {
   "cell_type": "code",
   "execution_count": 19,
   "metadata": {
    "collapsed": false
   },
   "outputs": [],
   "source": [
    "client.put_multi([task1, task2])"
   ]
  },
  {
   "cell_type": "code",
   "execution_count": 26,
   "metadata": {
    "collapsed": false
   },
   "outputs": [],
   "source": [
    "tasks = client.get_multi([task1.key, task2.key])"
   ]
  },
  {
   "cell_type": "code",
   "execution_count": 27,
   "metadata": {
    "collapsed": false
   },
   "outputs": [
    {
     "data": {
      "text/plain": [
       "[<Entity(u'Task', u'yoyo1') {u'category': 'Personal', u'priority': 1L, u'done': False, u'description': 'dfajdfljdklfja yoyoy -1'}>,\n",
       " <Entity(u'Task', u'yoyo2') {u'priority': 1L, u'category': 'Personal', u'done': False, u'description': 'dfajdfljdklfja yoyoy -2'}>]"
      ]
     },
     "execution_count": 27,
     "metadata": {},
     "output_type": "execute_result"
    }
   ],
   "source": [
    "tasks"
   ]
  },
  {
   "cell_type": "code",
   "execution_count": 28,
   "metadata": {
    "collapsed": true
   },
   "outputs": [],
   "source": [
    "client.get_multi??"
   ]
  },
  {
   "cell_type": "code",
   "execution_count": null,
   "metadata": {
    "collapsed": true
   },
   "outputs": [],
   "source": []
  },
  {
   "cell_type": "code",
   "execution_count": 7,
   "metadata": {
    "collapsed": false
   },
   "outputs": [],
   "source": [
    "complete_key = client.key('Task')\n",
    "\n",
    "task = datastore.Entity(key=complete_key)\n",
    "\n",
    "task.update({\n",
    "    'category': 'Personal',\n",
    "    'done': False,\n",
    "    'priority': 99,\n",
    "    'description': 'Learn Cloud Datastore'\n",
    "})\n",
    "\n",
    "client.put(task)"
   ]
  },
  {
   "cell_type": "code",
   "execution_count": 8,
   "metadata": {
    "collapsed": true
   },
   "outputs": [],
   "source": [
    "complete_key = client.key('Task')\n",
    "\n",
    "task = datastore.Entity(key=complete_key)\n",
    "\n",
    "task.update({\n",
    "    'category': 'Personal',\n",
    "    'done': False,\n",
    "    'coefs': [1, 2, 3, 4, 5],\n",
    "    'description': 'Learn Cloud Datastore'\n",
    "})\n",
    "\n",
    "client.put(task)"
   ]
  },
  {
   "cell_type": "code",
   "execution_count": 12,
   "metadata": {
    "collapsed": false
   },
   "outputs": [],
   "source": [
    "complete_key = client.key('Task')\n",
    "\n",
    "task = datastore.Entity(key=complete_key)\n",
    "\n",
    "task.update({\n",
    "    'category': 'Personal',\n",
    "    'done': False,\n",
    "    'result1':1.3,\n",
    "    'description': 'Learn Cloud Datastore'\n",
    "})\n",
    "\n",
    "client.put(task)"
   ]
  },
  {
   "cell_type": "code",
   "execution_count": 13,
   "metadata": {
    "collapsed": true
   },
   "outputs": [],
   "source": [
    "complete_key = client.key('Task')\n",
    "\n",
    "task = datastore.Entity(key=complete_key)\n",
    "\n",
    "task.update({\n",
    "    'category': 'Personal',\n",
    "    'done': False,\n",
    "    'result1':2.9,\n",
    "    'result2':5.3,\n",
    "    'description': 'Learn Cloud Datastore'\n",
    "})\n",
    "\n",
    "client.put(task)"
   ]
  },
  {
   "cell_type": "code",
   "execution_count": 18,
   "metadata": {
    "collapsed": false
   },
   "outputs": [
    {
     "name": "stdout",
     "output_type": "stream",
     "text": [
      "CPU times: user 0 ns, sys: 0 ns, total: 0 ns\n",
      "Wall time: 350 ms\n"
     ]
    }
   ],
   "source": [
    "%%time\n",
    "complete_key = client.key('Task')\n",
    "\n",
    "task = datastore.Entity(key=complete_key)\n",
    "\n",
    "task.update({\n",
    "    'result1':3.1,\n",
    "    'result2':2.0,\n",
    "    'result3':6.1,\n",
    "})\n",
    "\n",
    "client.put(task)"
   ]
  },
  {
   "cell_type": "code",
   "execution_count": 19,
   "metadata": {
    "collapsed": true
   },
   "outputs": [],
   "source": [
    "coefficients = {'a':1.1, 'b':2.1, 'c':3.1}\n",
    "tscores = {'a':4.1, 'b':5.1, 'c':6.1}"
   ]
  },
  {
   "cell_type": "code",
   "execution_count": null,
   "metadata": {
    "collapsed": true
   },
   "outputs": [],
   "source": []
  },
  {
   "cell_type": "code",
   "execution_count": null,
   "metadata": {
    "collapsed": true
   },
   "outputs": [],
   "source": []
  },
  {
   "cell_type": "code",
   "execution_count": 20,
   "metadata": {
    "collapsed": true
   },
   "outputs": [],
   "source": [
    "key = client.key('Task')\n",
    "\n",
    "task = datastore.Entity(key=key)\n",
    "\n",
    "task.update({\n",
    "    'fit':3.1,\n",
    "})\n"
   ]
  },
  {
   "cell_type": "code",
   "execution_count": 22,
   "metadata": {
    "collapsed": false
   },
   "outputs": [],
   "source": [
    "embedded_key = client.key('Coef')\n",
    "embedded_entity = datastore.Entity(key=embedded_key)\n",
    "embedded_entity['result1'] = 8.2\n",
    "embedded_entity['result2'] = 2.3\n",
    "## todo:  give embedded entity the proposal_id\n",
    "## todo:  update with a dictionary of coefs all at once\n",
    "## todo:  look into ancestors as an alternative to embedded entities, but can this be done in one request?\n",
    "task['coefficients']=embedded_entity\n",
    "client.put(task)"
   ]
  },
  {
   "cell_type": "code",
   "execution_count": 24,
   "metadata": {
    "collapsed": false
   },
   "outputs": [
    {
     "name": "stdout",
     "output_type": "stream",
     "text": [
      "<Entity(u'Task', 5715999101812736L) {u'coefficients': <Entity(u'Coef',) {u'result2': 2.3, u'result1': 8.2}>, u'fit': 3.1}>\n"
     ]
    }
   ],
   "source": [
    "key = client.key('Task', 5715999101812736)\n",
    "task = client.get(key)\n",
    "print task"
   ]
  },
  {
   "cell_type": "code",
   "execution_count": 27,
   "metadata": {
    "collapsed": false
   },
   "outputs": [],
   "source": [
    "coefs = task['coefficients']"
   ]
  },
  {
   "cell_type": "code",
   "execution_count": 34,
   "metadata": {
    "collapsed": false
   },
   "outputs": [
    {
     "data": {
      "text/plain": [
       "<Entity(u'Coef',) {u'result2': 2.3, u'result1': 8.2}>"
      ]
     },
     "execution_count": 34,
     "metadata": {},
     "output_type": "execute_result"
    }
   ],
   "source": [
    "coefs"
   ]
  },
  {
   "cell_type": "code",
   "execution_count": 30,
   "metadata": {
    "collapsed": false
   },
   "outputs": [
    {
     "data": {
      "text/plain": [
       "[u'result2', u'result1']"
      ]
     },
     "execution_count": 30,
     "metadata": {},
     "output_type": "execute_result"
    }
   ],
   "source": [
    "coefs.keys()"
   ]
  },
  {
   "cell_type": "code",
   "execution_count": 32,
   "metadata": {
    "collapsed": false
   },
   "outputs": [
    {
     "data": {
      "text/plain": [
       "8.2"
      ]
     },
     "execution_count": 32,
     "metadata": {},
     "output_type": "execute_result"
    }
   ],
   "source": [
    "coefs['result1']"
   ]
  },
  {
   "cell_type": "code",
   "execution_count": 33,
   "metadata": {
    "collapsed": false
   },
   "outputs": [
    {
     "data": {
      "text/plain": [
       "True"
      ]
     },
     "execution_count": 33,
     "metadata": {},
     "output_type": "execute_result"
    }
   ],
   "source": [
    "coefs.has_key('result2')"
   ]
  },
  {
   "cell_type": "code",
   "execution_count": 37,
   "metadata": {
    "collapsed": false
   },
   "outputs": [
    {
     "data": {
      "text/plain": [
       "[<Entity(u'Task', 5629499534213120L) {u'done': False, u'description': u'Learn Google Cloud Datastore', u'created': datetime.datetime(2017, 3, 16, 21, 21, 13, 994000, tzinfo=<UTC>)}>,\n",
       " <Entity(u'Task', 5631986051842048L) {u'result2': 2.0, u'result3': 6.1, u'result1': 3.1}>,\n",
       " <Entity(u'Task', 5634472569470976L) {u'priority': 4L, u'category': 'Personal', u'done': False, u'description': 'Learn Cloud Datastore'}>,\n",
       " <Entity(u'Task', 5639445604728832L) {u'done': False, u'description': 'yoyoyo987654321', u'created': datetime.datetime(2017, 3, 16, 22, 54, 54, 409101, tzinfo=<UTC>)}>,\n",
       " <Entity(u'Task', 5644406560391168L) {u'category': 'Personal', u'done': False, u'description': 'Learn Cloud Datastore', u'coefs': [1L, 2L, 3L, 4L, 5L]}>,\n",
       " <Entity(u'Task', 5649391675244544L) {u'randtext': u'yoyoyo autospec yoyoyo', u'done': False, u'description': u'', u'created': datetime.datetime(2017, 3, 16, 21, 58, 8, 348000, tzinfo=<UTC>)}>,\n",
       " <Entity(u'Task', 5654313976201216L) {u'priority': 99L, u'category': 'Personal', u'done': False, u'description': 'Learn Cloud Datastore'}>,\n",
       " <Entity(u'Task', 5659313586569216L) {u'done': True, u'description': 'afasfasfasfasfadsfa yoyoyo eddie', u'created': datetime.datetime(2017, 3, 16, 23, 0, 17, 68859, tzinfo=<UTC>)}>,\n",
       " <Entity(u'Task', 5664248772427776L) {u'category': 'Personal', u'done': False, u'description': 'Learn Cloud Datastore', u'result1': 1.3}>,\n",
       " <Entity(u'Task', 5700305828184064L) {u'result2': 1.0, u'result3': 12.1, u'result1': 2.9}>,\n",
       " <Entity(u'Task', 5707702298738688L) {u'done': False, u'description': 'afasfasfasfasfadsfa yoyoyo eddie', u'created': datetime.datetime(2017, 3, 16, 22, 58, 11, 711875, tzinfo=<UTC>)}>,\n",
       " <Entity(u'Task', 5710239819104256L) {u'result2': 1.0, u'result3': 1.1, u'result1': 2.1}>,\n",
       " <Entity(u'Task', 5715999101812736L) {u'fit': 3.1, u'coefficients': <Entity(u'Coef',) {u'result2': 2.3, u'result1': 8.2}>}>,\n",
       " <Entity(u'Task', 5720147234914304L) {u'category': 'Personal', u'done': False, u'result2': 5.3, u'description': 'Learn Cloud Datastore', u'result1': 2.9}>,\n",
       " <Entity(u'Task', 5722646637445120L) {u'description': 'Buy milk'}>,\n",
       " <Entity(u'Task', 5732568548769792L) {u'category': 'Personal', u'result1': 2.9, u'done': False, u'description': 'Learn Cloud Datastore', u'result3': 12.1}>,\n",
       " <Entity(u'Task', u'sample_task') {u'priority': 4L, u'category': 'Personal', u'done': False, u'description': 'Learn Cloud Datastore'}>,\n",
       " <Entity(u'Task', u'yoyo1') {u'category': 'Personal', u'priority': 1L, u'done': False, u'description': 'dfajdfljdklfja yoyoy -1'}>,\n",
       " <Entity(u'Task', u'yoyo2') {u'category': 'Personal', u'priority': 1L, u'done': False, u'description': 'dfajdfljdklfja yoyoy -2'}>]"
      ]
     },
     "execution_count": 37,
     "metadata": {},
     "output_type": "execute_result"
    }
   ],
   "source": [
    "query = client.query(kind='Task')\n",
    "list(query.fetch())"
   ]
  },
  {
   "cell_type": "code",
   "execution_count": 38,
   "metadata": {
    "collapsed": false
   },
   "outputs": [
    {
     "data": {
      "text/plain": [
       "[]"
      ]
     },
     "execution_count": 38,
     "metadata": {},
     "output_type": "execute_result"
    }
   ],
   "source": [
    "query = client.query(kind='Coef')\n",
    "list(query.fetch())"
   ]
  },
  {
   "cell_type": "code",
   "execution_count": 1,
   "metadata": {
    "collapsed": true
   },
   "outputs": [],
   "source": [
    "spec = ['avg_residential_value', 'avg_year_built']\n",
    "\n",
    "llr = 0.05234607777386069\n",
    "\n",
    "tscores = {'avg_residential_value': -5.391276176860389, 'avg_year_built': -1294.0203966397366}"
   ]
  },
  {
   "cell_type": "code",
   "execution_count": 2,
   "metadata": {
    "collapsed": false
   },
   "outputs": [
    {
     "data": {
      "text/plain": [
       "\"['avg_residential_value', 'avg_year_built']\""
      ]
     },
     "execution_count": 2,
     "metadata": {},
     "output_type": "execute_result"
    }
   ],
   "source": [
    "str(spec)"
   ]
  },
  {
   "cell_type": "code",
   "execution_count": 8,
   "metadata": {
    "collapsed": false
   },
   "outputs": [
    {
     "name": "stdout",
     "output_type": "stream",
     "text": [
      "CPU times: user 0 ns, sys: 0 ns, total: 0 ns\n",
      "Wall time: 223 ms\n"
     ]
    }
   ],
   "source": [
    "%%time\n",
    "key = client.key('Spec')\n",
    "ds_spec = datastore.Entity(key=key)\n",
    "ds_spec['variables'] = spec\n",
    "ds_spec['llr'] = llr\n",
    "\n",
    "sub_key = client.key('Tscores')\n",
    "ds_tscores = datastore.Entity(key=sub_key)\n",
    "ds_tscores.update(tscores)\n",
    "ds_spec['tscores']=ds_tscores\n",
    "client.put(ds_spec)\n",
    "\n",
    "\n",
    "## todo:  give embedded entity the proposal_id\n",
    "## todo:  update with a dictionary of coefs all at once\n",
    "## todo:  look into ancestors as an alternative to embedded entities, but can this be done in one request?"
   ]
  }
 ],
 "metadata": {
  "anaconda-cloud": {},
  "kernelspec": {
   "display_name": "Python 2",
   "language": "python",
   "name": "python2"
  },
  "language_info": {
   "codemirror_mode": {
    "name": "ipython",
    "version": 2
   },
   "file_extension": ".py",
   "mimetype": "text/x-python",
   "name": "python",
   "nbconvert_exporter": "python",
   "pygments_lexer": "ipython2",
   "version": "2.7.12"
  }
 },
 "nbformat": 4,
 "nbformat_minor": 0
}
